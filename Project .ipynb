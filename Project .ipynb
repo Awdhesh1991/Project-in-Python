{
 "cells": [
  {
   "cell_type": "code",
   "execution_count": 1,
   "id": "5c80c402-c8a0-4866-95d0-87f83c5f01ac",
   "metadata": {},
   "outputs": [
    {
     "name": "stdin",
     "output_type": "stream",
     "text": [
      "Inter Your User Name : awdhesh1991\n",
      "Inter Your Password : Ady@12345\n"
     ]
    },
    {
     "name": "stdout",
     "output_type": "stream",
     "text": [
      "you are good to go please wait.....\n"
     ]
    }
   ],
   "source": [
    "user_name =\"Awdhesh1991\"\n",
    "password = \"Ady@12345\"\n",
    "\n",
    "user_name_input = input(\"Inter Your User Name :\").capitalize()\n",
    "if user_name==user_name_input:\n",
    "    password_input = input(\"Inter Your Password :\")\n",
    "    if password==password_input:\n",
    "        print(\"you are good to go please wait.....\")\n",
    "    else:\n",
    "        print(\"Your password is wrong \")\n",
    "else:\n",
    "    print(\"wrong username or password\")\n"
   ]
  },
  {
   "cell_type": "code",
   "execution_count": 2,
   "id": "f99ef99a-1463-4869-8ea8-051df14c7add",
   "metadata": {},
   "outputs": [
    {
     "name": "stdin",
     "output_type": "stream",
     "text": [
      "Inter Your User Name : awdhesh1991\n",
      "Inter Your Password : Ady@12345\n"
     ]
    },
    {
     "name": "stdout",
     "output_type": "stream",
     "text": [
      "Please wate......\n"
     ]
    }
   ],
   "source": [
    "user_name = \"Awdhesh1991\"\n",
    "password = \"Ady@12345\"\n",
    "import webbrowser\n",
    "\n",
    "user_name_input = input(\"Inter Your User Name :\").capitalize()\n",
    "if user_name == user_name_input:\n",
    "    password_input = input(\"Inter Your Password :\")\n",
    "    if password == password_input:\n",
    "        print(\"Please wate......\")\n",
    "        webbrowser.open(\"www.google.com\")\n",
    "    else:\n",
    "        print(\"wrong username or password\")\n",
    "else:\n",
    "    print(\"wrong username or password\")\n",
    "        "
   ]
  },
  {
   "cell_type": "code",
   "execution_count": null,
   "id": "10e5d79f-f6c3-49df-8ddb-018e5cfc0dc3",
   "metadata": {},
   "outputs": [],
   "source": [
    "import tkinter as tk\n",
    "import webbrowser\n",
    "from tkinter import messagebox\n",
    "\n",
    "\n",
    "def login():\n",
    "    user_name = user_name_entry.get().capitalize()\n",
    "    password = password_entry.get()\n",
    "    if user_name == \"Awdhesh1991\" and password == \"Ady@12345\":\n",
    "        webbrowser.open(\"www.google.com\")\n",
    "    else:\n",
    "        messagebox.showinfo(\"Access Denied\",\"Wrong User Name or Password Please try again\")\n",
    "\n",
    "root = tk.Tk()\n",
    "root.geometry(\"400x300\")\n",
    "root.title(\"Login Paga\")\n",
    "\n",
    "user_name_lable = tk.Label(text = \"USER NAME\")\n",
    "user_name_lable.grid(row=0,column=0,padx=30,pady=30)\n",
    "\n",
    "password_lable = tk.Label(text = \"PASSWORD\")\n",
    "password_lable.grid(row=1,column=0,padx=30,pady=30)\n",
    "\n",
    "user_name_entry = tk.Entry()\n",
    "user_name_entry.grid(row=0,column=1,padx=30,pady=30)\n",
    "\n",
    "password_entry = tk.Entry(show=\"*\")\n",
    "password_entry.grid(row=1,column=1,padx=30,pady=30)\n",
    "\n",
    "loging_button = tk.Button(text = \"LOGING\",command=login)\n",
    "loging_button.grid(row=2,column=1,padx=30,pady=30)\n",
    "\n",
    "root.mainloop()"
   ]
  },
  {
   "cell_type": "code",
   "execution_count": null,
   "id": "df624374-b26f-4c24-9b67-611200f54dd8",
   "metadata": {},
   "outputs": [],
   "source": []
  }
 ],
 "metadata": {
  "kernelspec": {
   "display_name": "Python 3 (ipykernel)",
   "language": "python",
   "name": "python3"
  },
  "language_info": {
   "codemirror_mode": {
    "name": "ipython",
    "version": 3
   },
   "file_extension": ".py",
   "mimetype": "text/x-python",
   "name": "python",
   "nbconvert_exporter": "python",
   "pygments_lexer": "ipython3",
   "version": "3.12.4"
  }
 },
 "nbformat": 4,
 "nbformat_minor": 5
}
